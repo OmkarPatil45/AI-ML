{
 "cells": [
  {
   "cell_type": "markdown",
   "id": "05b2a49f",
   "metadata": {},
   "source": [
    "1. Write a program to take two lists from the user and print the common elements using sets."
   ]
  },
  {
   "cell_type": "code",
   "execution_count": 4,
   "id": "f8402158",
   "metadata": {},
   "outputs": [
    {
     "name": "stdout",
     "output_type": "stream",
     "text": [
      "Common elements: {'40', '30', '85'}\n"
     ]
    }
   ],
   "source": [
    "list1 = input(\"Enter elements of first list separated by spaces: \").split()\n",
    "\n",
    "list2 = input(\"Enter elements of second list separated by spaces: \").split()\n",
    "\n",
    "set1 = set(list1)\n",
    "set2 = set(list2)\n",
    "\n",
    "result = set1.intersection(set2)\n",
    "\n",
    "print(\"Common elements:\", result)\n"
   ]
  },
  {
   "cell_type": "markdown",
   "id": "c350d491",
   "metadata": {},
   "source": [
    "2. Write a program to check if two sets are disjoint or not."
   ]
  },
  {
   "cell_type": "code",
   "execution_count": 6,
   "id": "09ed54c8",
   "metadata": {},
   "outputs": [
    {
     "name": "stdout",
     "output_type": "stream",
     "text": [
      "True\n"
     ]
    }
   ],
   "source": [
    "set1 = {1, 2, 3, 4, 5}\n",
    "set2 = {50,60,70,90}\n",
    "result = set1.isdisjoint(set2)\n",
    "print(result)"
   ]
  },
  {
   "cell_type": "markdown",
   "id": "b1d975d3",
   "metadata": {},
   "source": [
    "3. Write a program to find all unique vowels present in a given string using set."
   ]
  },
  {
   "cell_type": "code",
   "execution_count": 15,
   "id": "2ee77fbf",
   "metadata": {},
   "outputs": [
    {
     "name": "stdout",
     "output_type": "stream",
     "text": [
      "Unique vowels present: {'i', 'a', 'o'}\n"
     ]
    }
   ],
   "source": [
    "text = input(\"Enter a string: \").lower()\n",
    "\n",
    "vowels = {'a', 'e', 'i', 'o', 'u'}\n",
    "result= set()\n",
    "\n",
    "for char in text:\n",
    "    if char in vowels:\n",
    "        result.add(char)\n",
    "       \n",
    "\n",
    "print(\"Unique vowels present:\", result)"
   ]
  }
 ],
 "metadata": {
  "kernelspec": {
   "display_name": "Python 3",
   "language": "python",
   "name": "python3"
  },
  "language_info": {
   "codemirror_mode": {
    "name": "ipython",
    "version": 3
   },
   "file_extension": ".py",
   "mimetype": "text/x-python",
   "name": "python",
   "nbconvert_exporter": "python",
   "pygments_lexer": "ipython3",
   "version": "3.12.3"
  }
 },
 "nbformat": 4,
 "nbformat_minor": 5
}
