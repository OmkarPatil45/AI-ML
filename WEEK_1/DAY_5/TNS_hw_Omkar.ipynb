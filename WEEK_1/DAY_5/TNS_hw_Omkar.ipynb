{
 "cells": [
  {
   "cell_type": "markdown",
   "id": "16c79633",
   "metadata": {},
   "source": [
    "1. Write a program to take 5 numbers from the user and store them in a tuple, then print the \n",
    "maximum and minimum. "
   ]
  },
  {
   "cell_type": "code",
   "execution_count": null,
   "id": "369fb703",
   "metadata": {},
   "outputs": [
    {
     "name": "stdout",
     "output_type": "stream",
     "text": [
      "Numbers entered: (10, 20, 30, 45, 50)\n",
      "Maximum number: 50\n",
      "Minimum number: 10\n"
     ]
    }
   ],
   "source": [
    "numbers = tuple(int(input(\"Enter 5 numbers : \"))\n",
    "     for i in range(5))\n",
    "\n",
    "print(\"Numbers entered:\", numbers)\n",
    "print(\"Maximum number:\", max(numbers))\n",
    "print(\"Minimum number:\", min(numbers))\n"
   ]
  },
  {
   "cell_type": "markdown",
   "id": "4faea4a7",
   "metadata": {},
   "source": [
    "2. Given a tuple of integers, write a program to count how many elements are divisible by 3\n",
    "\n"
   ]
  },
  {
   "cell_type": "code",
   "execution_count": 7,
   "id": "f03c81f5",
   "metadata": {},
   "outputs": [
    {
     "name": "stdout",
     "output_type": "stream",
     "text": [
      "30\n",
      "18\n",
      "total divisible element by 3: 2\n"
     ]
    }
   ],
   "source": [
    "tuple1 = (30, 50, 18, 17, 95, 118)\n",
    "count = 0\n",
    "for i in tuple1:\n",
    "    if i%3==0:\n",
    "        print(i)\n",
    "        count += 1\n",
    "print(\"total divisible element by 3:\",count)"
   ]
  },
  {
   "cell_type": "markdown",
   "id": "b70ad281",
   "metadata": {},
   "source": [
    "3. Write a program to reverse the contents of a tuple without using reversed()."
   ]
  },
  {
   "cell_type": "code",
   "execution_count": 9,
   "id": "caacebc1",
   "metadata": {},
   "outputs": [
    {
     "name": "stdout",
     "output_type": "stream",
     "text": [
      "(8, 7, 6, 5, 4, 3, 2, 1)\n"
     ]
    }
   ],
   "source": [
    "tuple = (1, 2, 3, 4, 5, 6, 7, 8)\n",
    "rev = tuple[::-1]\n",
    "print(rev)"
   ]
  }
 ],
 "metadata": {
  "kernelspec": {
   "display_name": "Python 3",
   "language": "python",
   "name": "python3"
  },
  "language_info": {
   "codemirror_mode": {
    "name": "ipython",
    "version": 3
   },
   "file_extension": ".py",
   "mimetype": "text/x-python",
   "name": "python",
   "nbconvert_exporter": "python",
   "pygments_lexer": "ipython3",
   "version": "3.12.3"
  }
 },
 "nbformat": 4,
 "nbformat_minor": 5
}
