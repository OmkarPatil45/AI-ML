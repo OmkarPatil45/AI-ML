{
 "cells": [
  {
   "cell_type": "markdown",
   "id": "f266fe3e",
   "metadata": {},
   "source": [
    "1. Write a program that converts a list of tuples into a dictionary. Example: [('a', 1), ('b', 2)] → {'a': 1, 'b': 2}"
   ]
  },
  {
   "cell_type": "code",
   "execution_count": 1,
   "id": "3ac6796d",
   "metadata": {},
   "outputs": [
    {
     "name": "stdout",
     "output_type": "stream",
     "text": [
      "{'a': 1, 'b': 2}\n"
     ]
    }
   ],
   "source": [
    "list = [(\"a\",1),(\"b\",2)]\n",
    "\n",
    "result = dict(list)\n",
    "print(result)"
   ]
  },
  {
   "cell_type": "markdown",
   "id": "5b00a4b4",
   "metadata": {},
   "source": [
    "2. Given a dictionary with values as lists, write a program to flatten all values into a single list."
   ]
  },
  {
   "cell_type": "code",
   "execution_count": 4,
   "id": "3368249b",
   "metadata": {},
   "outputs": [
    {
     "name": "stdout",
     "output_type": "stream",
     "text": [
      "Flattened list: [195, 26, 3, 0, 45, 61, 7, 78]\n"
     ]
    }
   ],
   "source": [
    "data = {\n",
    "    \"a\": [195, 26, 3],\n",
    "    \"b\": [0, 45],\n",
    "    \"c\": [61, 7, 78]\n",
    "}\n",
    "\n",
    "flattened_list = []\n",
    "\n",
    "for value in data.values():\n",
    "    flattened_list.extend(value)\n",
    "\n",
    "print(\"Flattened list:\", flattened_list)\n"
   ]
  },
  {
   "cell_type": "markdown",
   "id": "fef3f8de",
   "metadata": {},
   "source": [
    "3. Write a program that takes a list with duplicate elements and returns a dictionary with elements as keys and their frequency as values."
   ]
  },
  {
   "cell_type": "code",
   "execution_count": 5,
   "id": "ac1b0073",
   "metadata": {},
   "outputs": [
    {
     "name": "stdout",
     "output_type": "stream",
     "text": [
      "{40: 1, 90: 2, 30: 1, 80: 1, 65: 1, 70: 2}\n"
     ]
    }
   ],
   "source": [
    "my_list = [40, 90, 30, 80, 65, 70, 70, 90]\n",
    "\n",
    "freq_dict = {}\n",
    "for item in my_list:\n",
    "    freq_dict[item] = freq_dict.get(item, 0) + 1\n",
    "\n",
    "print(freq_dict)"
   ]
  }
 ],
 "metadata": {
  "kernelspec": {
   "display_name": "Python 3",
   "language": "python",
   "name": "python3"
  },
  "language_info": {
   "codemirror_mode": {
    "name": "ipython",
    "version": 3
   },
   "file_extension": ".py",
   "mimetype": "text/x-python",
   "name": "python",
   "nbconvert_exporter": "python",
   "pygments_lexer": "ipython3",
   "version": "3.12.3"
  }
 },
 "nbformat": 4,
 "nbformat_minor": 5
}
