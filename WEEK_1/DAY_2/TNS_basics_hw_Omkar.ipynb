{
 "cells": [
  {
   "cell_type": "markdown",
   "id": "e791e9b6",
   "metadata": {},
   "source": [
    "Q1. WAP that determine student's final status based on two factors: exam score 0-100 , Attendance 0%-100% \n",
    "   Rules: 1. Pass if exam score >= 50 & attendace >= 75%. \n",
    "2. Fail due to score if exam score < 50.\n",
    "3. Fail due to attendace if attendance < 75%.\n",
    "4. if both are below threshold print Fail due to score & attendance."
   ]
  },
  {
   "cell_type": "code",
   "execution_count": 7,
   "id": "6accb107",
   "metadata": {},
   "outputs": [
    {
     "name": "stdout",
     "output_type": "stream",
     "text": [
      "Oops u Failed\n"
     ]
    }
   ],
   "source": [
    "exam_score = int(input(\"Enter ur exam score: \"))\n",
    "attendance = int(input(\"Enter ur attendance percentage: \"))\n",
    "\n",
    "if exam_score >= 50 and attendance >= 75:\n",
    "    print(\"Congrats You Passed\")\n",
    "elif exam_score < 50:\n",
    "    print(\"Oops u Failed\")\n",
    "elif attendance < 75:\n",
    "    print(\"Oops u Failed\")\n",
    "else:\n",
    "    print(\"Oops u Failed\")"
   ]
  },
  {
   "cell_type": "markdown",
   "id": "965cbdcf",
   "metadata": {},
   "source": [
    "Q2. Multi-level loan eligibility checker\n"
   ]
  },
  {
   "cell_type": "code",
   "execution_count": 21,
   "id": "4dbaff8e",
   "metadata": {},
   "outputs": [
    {
     "name": "stdout",
     "output_type": "stream",
     "text": [
      "Oops Loan Rejected\n",
      "Loan rejected due to age. It must be 21 to 60.\n"
     ]
    }
   ],
   "source": [
    "def loan_eligibility_check():\n",
    "    age = int(input(\"Enter your age: \"))\n",
    "    income = float(input(\"Enter your income: \"))\n",
    "    creditScore = int(input(\"Enter your credit score: \"))\n",
    "\n",
    "    reasons = []\n",
    "\n",
    "    if age < 21 or age > 60:\n",
    "        reasons.append(\"Loan rejected due to age. It must be 21 to 60.\")\n",
    "    if income < 2500:\n",
    "        reasons.append(\"Loan rejected due to low income. It must be at least $2500.\")\n",
    "    if creditScore < 600:\n",
    "        reasons.append(\"Loan rejected due to poor credit score. It must be 600 or more.\")\n",
    "\n",
    "    if not reasons:\n",
    "        print(\"Congrats Loan Approved\")\n",
    "    else:\n",
    "        print(\"Oops Loan Rejected\")\n",
    "        for reason in reasons:\n",
    "            print(reason)\n",
    "\n",
    "loan_eligibility_check()"
   ]
  },
  {
   "cell_type": "markdown",
   "id": "070a4769",
   "metadata": {},
   "source": [
    "Q3. Password strength analyzer"
   ]
  },
  {
   "cell_type": "code",
   "execution_count": 28,
   "id": "6f4e0ae1",
   "metadata": {},
   "outputs": [
    {
     "name": "stdout",
     "output_type": "stream",
     "text": [
      "Note- Please enter at least one uppercase, lowercase, digit and spChars\n",
      "Ompatil@1234\n",
      "Valid Password\n"
     ]
    }
   ],
   "source": [
    "\n",
    "print(\"Note- Please enter at least one uppercase, lowercase, digit and spChars\")\n",
    "password= input(\"Enter a password: \")\n",
    "print(password)\n",
    "lowerCase, upperCase, spChars, integer = 0, 0, 0, 0\n",
    "\n",
    "\n",
    "capitalLetters=\"ABCDEFGHIJKLMNOPQRSTUVWXYZ\"\n",
    "smallLetters=\"abcdefghijklmnopqrstuvwxyz\"\n",
    "symbols=\"$@_\"\n",
    "digits=\"0123456789\"\n",
    "\n",
    "if (len(password) >= 8):\n",
    "    for x in password:\n",
    "        if (x in smallLetters):\n",
    "            lowerCase += 1            \n",
    "        \n",
    "        if (x in capitalLetters):\n",
    "            upperCase += 1            \n",
    "\n",
    "        if (x in digits):\n",
    "            integer += 1            \n",
    "\n",
    "        if(x in symbols):\n",
    "            spChars += 1        \n",
    "if ((lowerCase>=1 and upperCase>=1 and spChars>=1 and integer>=1) \n",
    "        and (lowerCase + spChars + upperCase + integer == len(password))):\n",
    "    print(\"Valid Password\")\n",
    "else:\n",
    "    print(\"Invalid Password\")"
   ]
  },
  {
   "cell_type": "markdown",
   "id": "581b85a2",
   "metadata": {},
   "source": [
    "Q4. Calculate traffic fine based on speed and vehicle type "
   ]
  },
  {
   "cell_type": "code",
   "execution_count": 2,
   "id": "0cdca920",
   "metadata": {},
   "outputs": [
    {
     "name": "stdout",
     "output_type": "stream",
     "text": [
      "Fine:  400\n",
      "License suspension warning!\n"
     ]
    }
   ],
   "source": [
    "\n",
    "speedLimit = 60\n",
    "\n",
    "\n",
    "vehicle_type = input(\"Enter vehicle type ex. car/truck/motorcycle: \")\n",
    "speed = float(input(\"Enter your speed in mph: \"))\n",
    "\n",
    "overSpeed = speed - speedLimit\n",
    "\n",
    "fine = 0\n",
    "suspension = False\n",
    "\n",
    "if overSpeed > 0:  \n",
    "    if 1 <= overSpeed <= 10:\n",
    "        fine = 50\n",
    "    elif 11 <= overSpeed <= 20:\n",
    "        fine = 100\n",
    "    elif overSpeed > 20:\n",
    "        fine = 200\n",
    "        suspension = True  \n",
    "\n",
    "    if vehicle_type == \"truck\":\n",
    "        fine *= 2\n",
    "        if overSpeed > 15:\n",
    "            suspension = True\n",
    "    elif vehicle_type == \"motorcycle\":\n",
    "        fine /= 2\n",
    "        if overSpeed > 25:\n",
    "            suspension = True\n",
    "\n",
    "    print(\"Fine: \", fine)\n",
    "    if suspension:\n",
    "        print(\"License suspension warning!\")\n",
    "else:\n",
    "    print(\"No fine. You are within the speed limit.\")\n"
   ]
  },
  {
   "cell_type": "markdown",
   "id": "f558f59f",
   "metadata": {},
   "source": [
    "Q5. Write a program to print the factorial of a number using a for loop. "
   ]
  },
  {
   "cell_type": "code",
   "execution_count": 4,
   "id": "a39a1abf",
   "metadata": {},
   "outputs": [
    {
     "name": "stdout",
     "output_type": "stream",
     "text": [
      "Factorial is 120\n"
     ]
    }
   ],
   "source": [
    "num = int(input(\"Enter a number: \"))\n",
    "\n",
    "factorial = 1 \n",
    "\n",
    "for i in range(1, num + 1):\n",
    "    factorial *= i \n",
    "\n",
    "print(\"Factorial is\", factorial)\n"
   ]
  },
  {
   "cell_type": "markdown",
   "id": "b8bd051a",
   "metadata": {},
   "source": [
    "Q6. Write a program that prints all numbers from 1 to 100 that are divisible by 7 but not a \n",
    "multiple of 5. "
   ]
  },
  {
   "cell_type": "code",
   "execution_count": 5,
   "id": "4dadc8c5",
   "metadata": {},
   "outputs": [
    {
     "name": "stdout",
     "output_type": "stream",
     "text": [
      "7\n",
      "14\n",
      "21\n",
      "28\n",
      "42\n",
      "49\n",
      "56\n",
      "63\n",
      "77\n",
      "84\n",
      "91\n",
      "98\n"
     ]
    }
   ],
   "source": [
    "for x in range(1, 101):\n",
    "    if x % 7 == 0 and x % 5 != 0:\n",
    "        print(x)\n"
   ]
  },
  {
   "cell_type": "markdown",
   "id": "5f5984bb",
   "metadata": {},
   "source": [
    "Q7. Write a program that takes a number and prints whether it is a palindrome or not. "
   ]
  },
  {
   "cell_type": "code",
   "execution_count": 3,
   "id": "b3551be1",
   "metadata": {},
   "outputs": [
    {
     "name": "stdout",
     "output_type": "stream",
     "text": [
      "3993 is a palindrome\n"
     ]
    }
   ],
   "source": [
    "number = int(input(\"enter a number\"))\n",
    "reversed_num = int(str(number)[::-1])\n",
    "if number == reversed_num:\n",
    "    print(str(number) +\" \"+ \"is a palindrome\")\n",
    "else:\n",
    "    print(str(number) +\" \"+ \"is not palindrome\")"
   ]
  }
 ],
 "metadata": {
  "kernelspec": {
   "display_name": "Python 3",
   "language": "python",
   "name": "python3"
  },
  "language_info": {
   "codemirror_mode": {
    "name": "ipython",
    "version": 3
   },
   "file_extension": ".py",
   "mimetype": "text/x-python",
   "name": "python",
   "nbconvert_exporter": "python",
   "pygments_lexer": "ipython3",
   "version": "3.12.3"
  }
 },
 "nbformat": 4,
 "nbformat_minor": 5
}
