{
 "cells": [
  {
   "cell_type": "markdown",
   "id": "e26a9be6",
   "metadata": {},
   "source": [
    "1. Write a program that takes a sentence and creates a dictionary with word counts.\n"
   ]
  },
  {
   "cell_type": "code",
   "execution_count": 2,
   "id": "5610ad2e",
   "metadata": {},
   "outputs": [
    {
     "name": "stdout",
     "output_type": "stream",
     "text": [
      "Word counts: {'hello': 1, 'i': 1, 'am': 1, 'omkar': 1}\n"
     ]
    }
   ],
   "source": [
    "sent = input(\"Enter a sentence: \").lower()\n",
    "\n",
    "words = sent.split()\n",
    "\n",
    "word_count = {}\n",
    "\n",
    "for word in words:\n",
    "    if word in word_count:\n",
    "        word_count[word] += 1\n",
    "    else:\n",
    "        word_count[word] = 1\n",
    "\n",
    "print(\"Word counts:\", word_count)\n"
   ]
  },
  {
   "cell_type": "markdown",
   "id": "a696190a",
   "metadata": {},
   "source": [
    "2. . Write a program to map roll numbers to names using two lists and form a dictionary."
   ]
  },
  {
   "cell_type": "code",
   "execution_count": 6,
   "id": "a7429f26",
   "metadata": {},
   "outputs": [
    {
     "name": "stdout",
     "output_type": "stream",
     "text": [
      "Roll Number & Name: {108: 'Omkar', 93: 'Satyawan', 45: 'Patil'}\n"
     ]
    }
   ],
   "source": [
    "roll_numbers = [108, 93, 45]\n",
    "names = [\"Omkar\", \"Satyawan\", \"Patil\"]\n",
    "\n",
    "student_dict = dict(zip(roll_numbers, names))\n",
    "\n",
    "print(\"Roll Number & Name:\", student_dict)"
   ]
  },
  {
   "cell_type": "markdown",
   "id": "01c4c2ef",
   "metadata": {},
   "source": [
    "3. Write a program that takes a dictionary of students and their marks, and prints the name(s) of the student(s) with the highest marks."
   ]
  },
  {
   "cell_type": "code",
   "execution_count": 8,
   "id": "d829ac4b",
   "metadata": {},
   "outputs": [
    {
     "name": "stdout",
     "output_type": "stream",
     "text": [
      "Highest marks: 92\n",
      "Top student(s):\n",
      "Sahil\n",
      "Tom\n"
     ]
    }
   ],
   "source": [
    "students = {\n",
    "    \"Omkar\": 85,\n",
    "    \"Sahil\": 92,\n",
    "    \"Charlie\": 78,\n",
    "    \"Tom\": 92,\n",
    "    \"Pappu\": 88\n",
    "}\n",
    "\n",
    "highest_marks = max(students.values())\n",
    "\n",
    "# Print top student(s)\n",
    "print(\"Highest marks:\", highest_marks)\n",
    "print(\"Top student(s):\")\n",
    "\n",
    "for name, marks in students.items():\n",
    "    if marks == highest_marks:\n",
    "        print(name)\n"
   ]
  }
 ],
 "metadata": {
  "kernelspec": {
   "display_name": "Python 3",
   "language": "python",
   "name": "python3"
  },
  "language_info": {
   "codemirror_mode": {
    "name": "ipython",
    "version": 3
   },
   "file_extension": ".py",
   "mimetype": "text/x-python",
   "name": "python",
   "nbconvert_exporter": "python",
   "pygments_lexer": "ipython3",
   "version": "3.12.3"
  }
 },
 "nbformat": 4,
 "nbformat_minor": 5
}
