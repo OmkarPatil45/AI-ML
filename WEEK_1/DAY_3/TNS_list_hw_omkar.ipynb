{
 "cells": [
  {
   "cell_type": "markdown",
   "id": "3f8eace9",
   "metadata": {},
   "source": [
    "1. Return sum of elements of a tuple"
   ]
  },
  {
   "cell_type": "code",
   "execution_count": 1,
   "id": "aeb6a161",
   "metadata": {},
   "outputs": [
    {
     "name": "stdout",
     "output_type": "stream",
     "text": [
      "sum of elements of tuple is  17\n"
     ]
    }
   ],
   "source": [
    "numbers = (1,2,6,8)\n",
    "print(\"sum of elements of tuple is \",sum(numbers))"
   ]
  },
  {
   "cell_type": "markdown",
   "id": "9f309e66",
   "metadata": {},
   "source": [
    "2. Tuple of strings given , convert it into list add a new element to list"
   ]
  },
  {
   "cell_type": "code",
   "execution_count": null,
   "id": "98ea4493",
   "metadata": {},
   "outputs": [
    {
     "name": "stdout",
     "output_type": "stream",
     "text": [
      "converted list:  ['omkar', 'satyawan', 'nanda']\n",
      "['omkar', 'satyawan', 'nanda', 'patil']\n"
     ]
    }
   ],
   "source": [
    "\n",
    "tuple_1 = (\"omkar\", \"satyawan\", \"nanda\")\n",
    "\n",
    "my_list = list(tuple_1)\n",
    "\n",
    "print(\"converted list: \", my_list)\n",
    "my_list.append(\"patil\")\n",
    "print(my_list)"
   ]
  },
  {
   "cell_type": "markdown",
   "id": "a74b909c",
   "metadata": {},
   "source": [
    "3. Python function to check if a number is prime or not "
   ]
  },
  {
   "cell_type": "code",
   "execution_count": null,
   "id": "f0c8812a",
   "metadata": {},
   "outputs": [
    {
     "data": {
      "text/plain": [
       "'not a prime no'"
      ]
     },
     "execution_count": 28,
     "metadata": {},
     "output_type": "execute_result"
    }
   ],
   "source": [
    "def isPrime(number):\n",
    "    for i in range(2, number):\n",
    "        if number % i == 0:\n",
    "            return f'not a prime no'\n",
    "    else:\n",
    "        print(\"Prime no\")\n",
    "\n",
    "isPrime(number = int(input(\"enter a no to check\")))\n",
    "\n",
    "\n"
   ]
  },
  {
   "cell_type": "markdown",
   "id": "b69e996c",
   "metadata": {},
   "source": [
    "4. Reverse a string \n"
   ]
  },
  {
   "cell_type": "code",
   "execution_count": 42,
   "id": "3eca5ef8",
   "metadata": {},
   "outputs": [
    {
     "name": "stdout",
     "output_type": "stream",
     "text": [
      "litap rakmo\n"
     ]
    }
   ],
   "source": [
    "a = input(\"enter string\")\n",
    "list1 = list(a)\n",
    "\n",
    "newString = \"\"\n",
    "\n",
    "while (list1):\n",
    "    newString += list1.pop()\n",
    "print(newString)"
   ]
  },
  {
   "cell_type": "markdown",
   "id": "53e96e3f",
   "metadata": {},
   "source": [
    "5. Write a function to check whether a given string is a pangram (contains all letters of the \n",
    "alphabet). "
   ]
  },
  {
   "cell_type": "code",
   "execution_count": 1,
   "id": "d97eecbe",
   "metadata": {},
   "outputs": [
    {
     "name": "stdout",
     "output_type": "stream",
     "text": [
      "hello my name is omkar s patil from BEIT looking for a web dev role \n",
      "It is not a pangram.\n"
     ]
    }
   ],
   "source": [
    "def is_pangram(text):\n",
    "    text = text.lower()\n",
    "    alphabet = \"abcdefghijklmnopqrstuvwxyz\"\n",
    "\n",
    "    for letter in alphabet:\n",
    "        if letter not in text:\n",
    "            return False  \n",
    "\n",
    "    return True \n",
    "\n",
    "sentence = (input(\"Enter a sentence: \"))\n",
    "print(sentence)\n",
    "\n",
    "if is_pangram(sentence):\n",
    "    print(\"It is a pangram.\")\n",
    "else:\n",
    "    print(\"It is not a pangram.\")\n"
   ]
  },
  {
   "cell_type": "markdown",
   "id": "d9747795",
   "metadata": {},
   "source": [
    "6. Write a function that takes a sentence and returns the word with the maximum length. "
   ]
  },
  {
   "cell_type": "code",
   "execution_count": 8,
   "id": "cb9892dd",
   "metadata": {},
   "outputs": [
    {
     "name": "stdout",
     "output_type": "stream",
     "text": [
      "The longest word is: hello\n"
     ]
    }
   ],
   "source": [
    "def longest_word(sentence):\n",
    "    words = sentence.split()\n",
    "    longest = words[0]\n",
    "\n",
    "    for word in words:\n",
    "        if len(word) > len(longest):\n",
    "            longest = word\n",
    "\n",
    "    return longest\n",
    "\n",
    "text = (input(\"Enter a sentence: \"))\n",
    "print(\"The longest word is:\", longest_word(text))\n"
   ]
  },
  {
   "cell_type": "markdown",
   "id": "5b5dff75",
   "metadata": {},
   "source": [
    "7. Write a function to count the number of uppercase and lowercase characters in a string. "
   ]
  },
  {
   "cell_type": "code",
   "execution_count": 10,
   "id": "7c1bfd5e",
   "metadata": {},
   "outputs": [
    {
     "name": "stdout",
     "output_type": "stream",
     "text": [
      "Hello I am Omkar Patil\n",
      "Uppercase letters: 4\n",
      "Lowercase letters: 14\n"
     ]
    }
   ],
   "source": [
    "def countOfcase(text):\n",
    "    uppercase_count = 0\n",
    "    lowercase_count = 0\n",
    "\n",
    "    for char in text:\n",
    "        if char.isupper(): \n",
    "            uppercase_count += 1\n",
    "        elif char.islower():  \n",
    "            lowercase_count += 1\n",
    "\n",
    "    return uppercase_count, lowercase_count\n",
    "\n",
    "\n",
    "sentence = input(\"Enter a string: \")\n",
    "print(sentence)\n",
    "upper, lower = countOfcase(sentence)\n",
    "\n",
    "print(\"Uppercase letters:\", upper)\n",
    "print(\"Lowercase letters:\", lower)\n"
   ]
  }
 ],
 "metadata": {
  "kernelspec": {
   "display_name": "Python 3",
   "language": "python",
   "name": "python3"
  },
  "language_info": {
   "codemirror_mode": {
    "name": "ipython",
    "version": 3
   },
   "file_extension": ".py",
   "mimetype": "text/x-python",
   "name": "python",
   "nbconvert_exporter": "python",
   "pygments_lexer": "ipython3",
   "version": "3.12.3"
  }
 },
 "nbformat": 4,
 "nbformat_minor": 5
}
