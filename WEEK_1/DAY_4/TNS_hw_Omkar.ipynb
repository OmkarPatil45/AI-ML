{
 "cells": [
  {
   "cell_type": "markdown",
   "id": "532f1ef5",
   "metadata": {},
   "source": [
    "1. Write a program to find the difference between the maximum and minimum elements in a list."
   ]
  },
  {
   "cell_type": "code",
   "execution_count": 1,
   "id": "f093adf2",
   "metadata": {},
   "outputs": [
    {
     "name": "stdout",
     "output_type": "stream",
     "text": [
      "170\n"
     ]
    }
   ],
   "source": [
    "list = [200, 30, 80, 90]\n",
    "result_a = max(list)\n",
    "result_b = min(list)\n",
    "diff=result_a-result_b\n",
    "print(diff)"
   ]
  },
  {
   "cell_type": "markdown",
   "id": "2e60ea04",
   "metadata": {},
   "source": [
    "2. Write a program to remove all elements at odd indices from a list."
   ]
  },
  {
   "cell_type": "code",
   "execution_count": 3,
   "id": "d959b76c",
   "metadata": {},
   "outputs": [
    {
     "name": "stdout",
     "output_type": "stream",
     "text": [
      "[20, 30, 58]\n"
     ]
    }
   ],
   "source": [
    "list1 = [20, 30, 58, 39, 45, 63]\n",
    "new_list = []\n",
    "for i in list1:\n",
    " if i%2 == 0:\n",
    "     new_list.append(i)\n",
    "\n",
    "print((new_list))"
   ]
  },
  {
   "cell_type": "markdown",
   "id": "b4d85f9a",
   "metadata": {},
   "source": [
    "3. Write a program that takes a list of integers and prints only the elements that appear exactly once."
   ]
  },
  {
   "cell_type": "code",
   "execution_count": 8,
   "id": "4f79f8cf",
   "metadata": {},
   "outputs": [
    {
     "name": "stdout",
     "output_type": "stream",
     "text": [
      "50\n",
      "60\n",
      "97\n",
      "85\n",
      "90\n"
     ]
    }
   ],
   "source": [
    "numbers = [30, 58, 50, 30, 58,70, 60, 97, 85, 70, 90]\n",
    "\n",
    "for x in numbers:\n",
    " if numbers.count(x) == 1:\n",
    "  print(x)"
   ]
  }
 ],
 "metadata": {
  "kernelspec": {
   "display_name": "Python 3",
   "language": "python",
   "name": "python3"
  },
  "language_info": {
   "codemirror_mode": {
    "name": "ipython",
    "version": 3
   },
   "file_extension": ".py",
   "mimetype": "text/x-python",
   "name": "python",
   "nbconvert_exporter": "python",
   "pygments_lexer": "ipython3",
   "version": "3.12.3"
  }
 },
 "nbformat": 4,
 "nbformat_minor": 5
}
