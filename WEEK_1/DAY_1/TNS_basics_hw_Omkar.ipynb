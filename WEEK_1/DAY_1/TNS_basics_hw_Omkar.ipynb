{
 "cells": [
  {
   "cell_type": "markdown",
   "id": "a8f9666f",
   "metadata": {},
   "source": [
    "Q1. Write a program that takes the radius as input and calculates the area and \n",
    "circumference of a circle."
   ]
  },
  {
   "cell_type": "code",
   "execution_count": 2,
   "id": "e9b5bda0",
   "metadata": {},
   "outputs": [
    {
     "name": "stdout",
     "output_type": "stream",
     "text": [
      "Area of circle:  153.86\n",
      "Circumference of circle:  43.96\n"
     ]
    }
   ],
   "source": [
    "r = float(input(\"Enter Radius: \"))\n",
    "pi = 3.14\n",
    "\n",
    "area = pi * r**2\n",
    "circumference = (2* pi* r)\n",
    "\n",
    "print(\"Area of circle: \",area)\n",
    "print(\"Circumference of circle: \",circumference)"
   ]
  },
  {
   "cell_type": "markdown",
   "id": "0cb6be5e",
   "metadata": {},
   "source": [
    "Q2. Write a program to check if a number is divisible by both 3 and 5. "
   ]
  },
  {
   "cell_type": "code",
   "execution_count": 4,
   "id": "9e40130c",
   "metadata": {},
   "outputs": [
    {
     "name": "stdout",
     "output_type": "stream",
     "text": [
      "it is not divisible by 3 & 5\n"
     ]
    }
   ],
   "source": [
    "num = int(input(\"enter a number\"))\n",
    "\n",
    "if (num % 3 == 0 and num % 5 == 0):\n",
    "    print(\"number is divisible by both 3 & 5\")\n",
    "else:\n",
    "    print(\"it is not divisible by 3 & 5\")"
   ]
  },
  {
   "cell_type": "markdown",
   "id": "e62f67f2",
   "metadata": {},
   "source": [
    "Q3. Write a program that takes a 4-digit number from the user and prints the sum of its digits."
   ]
  },
  {
   "cell_type": "code",
   "execution_count": 8,
   "id": "1950db62",
   "metadata": {},
   "outputs": [
    {
     "name": "stdout",
     "output_type": "stream",
     "text": [
      "Sum of digits: 22\n"
     ]
    }
   ],
   "source": [
    "num = input(\"Enter a 4 digit number: \")\n",
    "sum = 0\n",
    "\n",
    "for digit in num:\n",
    "    sum += int(digit)\n",
    "\n",
    "print(\"Sum of digits:\", sum)\n"
   ]
  }
 ],
 "metadata": {
  "kernelspec": {
   "display_name": "Python 3",
   "language": "python",
   "name": "python3"
  },
  "language_info": {
   "codemirror_mode": {
    "name": "ipython",
    "version": 3
   },
   "file_extension": ".py",
   "mimetype": "text/x-python",
   "name": "python",
   "nbconvert_exporter": "python",
   "pygments_lexer": "ipython3",
   "version": "3.12.3"
  }
 },
 "nbformat": 4,
 "nbformat_minor": 5
}
